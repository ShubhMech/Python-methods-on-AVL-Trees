{
 "cells": [
  {
   "cell_type": "code",
   "execution_count": 30,
   "id": "d6e60266-e68a-42e1-b466-b6a943f2ce9b",
   "metadata": {},
   "outputs": [],
   "source": [
    "class AVL_Tree:\n",
    "    def __init__(self,value):\n",
    "        self.data=value\n",
    "        self.height=1\n",
    "        self.left=None\n",
    "        self.right=None\n",
    "        "
   ]
  },
  {
   "cell_type": "code",
   "execution_count": 31,
   "id": "9ebcffc6-755f-47fb-b723-8cef55fbd4a7",
   "metadata": {},
   "outputs": [],
   "source": [
    "root=AVL_Tree(4)"
   ]
  },
  {
   "cell_type": "code",
   "execution_count": 32,
   "id": "e2700efb-9155-4f06-9c22-c33529fab31c",
   "metadata": {},
   "outputs": [],
   "source": [
    "def pre_order_traversal(root):\n",
    "    if root==None:\n",
    "        return\n",
    "    else:\n",
    "        print(root.data)\n",
    "        pre_order_traversal(root.left)\n",
    "        pre_order_traversal(root.right)"
   ]
  },
  {
   "cell_type": "code",
   "execution_count": 33,
   "id": "5f297767-a3e7-4e48-8fb4-e099ea1354d5",
   "metadata": {},
   "outputs": [
    {
     "name": "stdout",
     "output_type": "stream",
     "text": [
      "4\n"
     ]
    }
   ],
   "source": [
    "pre_order_traversal(root)"
   ]
  },
  {
   "cell_type": "code",
   "execution_count": 34,
   "id": "ec521eed-9d10-4303-8b7f-b764a08d1553",
   "metadata": {},
   "outputs": [],
   "source": [
    "def getBalance(root_):\n",
    "    if not root_:\n",
    "        return 0\n",
    "\n",
    "    return getHeight(root_.left) - getHeight(root_.right)"
   ]
  },
  {
   "cell_type": "code",
   "execution_count": 35,
   "id": "1999462d-0252-42e7-b1b0-7dd94a97145e",
   "metadata": {},
   "outputs": [],
   "source": [
    "\n",
    "def leftRotate(z):\n",
    "\n",
    "    y = z.right\n",
    "    T2 = y.left\n",
    "\n",
    "    # Perform rotation\n",
    "    y.left = z\n",
    "    z.right = T2\n",
    "\n",
    "    # Update heights\n",
    "    z.height = 1 + max(getHeight(z.left),\n",
    "                     getHeight(z.right))\n",
    "    y.height = 1 + max(getHeight(y.left),\n",
    "                     getHeight(y.right))\n",
    "\n",
    "    \n",
    "    "
   ]
  },
  {
   "cell_type": "code",
   "execution_count": 36,
   "id": "8d02b3b4-2532-4b1b-96b0-164512ec359c",
   "metadata": {},
   "outputs": [],
   "source": [
    "def rightRotate(z):\n",
    "\n",
    "    y = z.left\n",
    "    T3 = y.right\n",
    "\n",
    "    # Perform rotation\n",
    "    y.right = z\n",
    "    z.left = T3\n",
    "\n",
    "    # Update heights\n",
    "    z.height = 1 + max(getHeight(z.left),\n",
    "                    getHeight(z.right))\n",
    "    y.height = 1 + max(getHeight(y.left),\n",
    "                    getHeight(y.right))\n",
    "\n",
    "    \n",
    "    "
   ]
  },
  {
   "cell_type": "code",
   "execution_count": 37,
   "id": "2ce0d69f-3de3-4475-b772-948a2e457ab7",
   "metadata": {},
   "outputs": [],
   "source": [
    "def getHeight(root_):\n",
    "    if not root_:\n",
    "        return 0\n",
    "\n",
    "    return root_.height"
   ]
  },
  {
   "cell_type": "code",
   "execution_count": 38,
   "id": "fc2ebbd2-d9f3-4980-8b58-6313babdab93",
   "metadata": {},
   "outputs": [],
   "source": [
    "class Nodes:\n",
    "    def __init__(self,value):\n",
    "        self.value=value\n",
    "        self.next=None\n",
    "        \n",
    "class Linked_List:\n",
    "    def __init__(self):\n",
    "        self.head=None\n",
    "        self.tail=None\n",
    "\n",
    "class Queue:\n",
    "    def __init__(self):\n",
    "        self.items=Linked_List()\n",
    "        \n",
    "    def enqueue(self,value):\n",
    "        node=Nodes(value)\n",
    "        if self.items.head is not None:\n",
    "        \n",
    "            self.items.tail.next=node\n",
    "            self.items.tail=node\n",
    "            \n",
    "        else:\n",
    "            self.items.head=node\n",
    "            self.items.tail=node\n",
    "            \n",
    "    def is_empty(self):\n",
    "        if self.items.head is None:\n",
    "            return True\n",
    "        else:\n",
    "            return False\n",
    "    \n",
    "    \n",
    "    def dequeue(self):\n",
    "        if self.is_empty():\n",
    "            return \"Can't dequeue, dumbass!\"\n",
    "        else:\n",
    "            temp=self.items.head\n",
    "#             temp1=temp\n",
    "            \n",
    "            if self.items.head==self.items.tail:\n",
    "                \n",
    "                self.items.tail=None\n",
    "                self.items.head=None\n",
    "                \n",
    "            else:\n",
    "                self.items.head=self.items.head.next\n",
    "                \n",
    "            return temp\n",
    "    \n",
    "    def peep(self):\n",
    "        if self.is_empty():\n",
    "            return \"Can't peep, dumbass!\"\n",
    "        else:\n",
    "            return self.items.head.value\n",
    "            \n",
    "    def delete(self):\n",
    "        if self.is_empty():\n",
    "            return \"Can't delete, dumbass!\"\n",
    "        else:\n",
    "            self.items.head, self.items.tail=None\n",
    "            return self.items.head.value"
   ]
  },
  {
   "cell_type": "code",
   "execution_count": 39,
   "id": "9df77d68-95f6-415f-ab2f-3e5b1b8a99c8",
   "metadata": {},
   "outputs": [],
   "source": [
    "def insertion(root,val):\n",
    "    if not root:\n",
    "        return \n",
    "    else:\n",
    "        q=Queue()\n",
    "        q.enqueue(root)\n",
    "        while not q.is_empty():\n",
    "\n",
    "            root_=q.dequeue()\n",
    "#             print(root.value.data)\n",
    "            \n",
    "            if root_.value.left == None:\n",
    "                root_.value.left=AVL_Tree(val)\n",
    "                print(\"Value inserted at the desired location\")\n",
    "                break\n",
    "                \n",
    "            \n",
    "                \n",
    "            else:\n",
    "                q.enqueue(root_.value.left)\n",
    "\n",
    "            if root_.value.right == None:\n",
    "                root_.value.right=AVL_Tree(val)\n",
    "                break\n",
    "            \n",
    "            else:\n",
    "                q.enqueue(root_.value.right)\n",
    "                \n",
    "            \n",
    "    \n",
    "\n",
    "    root_.height = 1 + max(getHeight(root_.value.left),\n",
    "                       getHeight(root_.value.right))\n",
    "\n",
    "    \n",
    "    \n",
    "    balance = getBalance(root_.value)\n",
    "\n",
    "\n",
    "    # Left Left\n",
    "    if balance > 1 and val < root_.left.value.data:\n",
    "        rightRotate(root_.value)\n",
    "\n",
    "    # Right Right\n",
    "    if balance < -1 and val > root_.value.right.data:\n",
    "        leftRotate(root_.value)\n",
    "\n",
    "    # Left Right\n",
    "    if balance > 1 and val > root_.value.left.data:\n",
    "        root.left = leftRotate(root_.value.left)\n",
    "        rightRotate(root_.value)\n",
    "\n",
    "    # Right Left\n",
    "    if balance < -1 and val < root_.value.right.data:\n",
    "        root.right = rightRotate(root_.value.right)\n",
    "        leftRotate(root_.value)\n",
    "\n",
    "    "
   ]
  },
  {
   "cell_type": "code",
   "execution_count": 40,
   "id": "7a5ec680-c2f6-44bc-9bae-45e363a41010",
   "metadata": {},
   "outputs": [
    {
     "name": "stdout",
     "output_type": "stream",
     "text": [
      "Value inserted at the desired location\n"
     ]
    }
   ],
   "source": [
    "insertion(root, 10)\n"
   ]
  },
  {
   "cell_type": "code",
   "execution_count": 41,
   "id": "513dd318-7d7e-4d9c-924d-5962dc712a1d",
   "metadata": {},
   "outputs": [
    {
     "name": "stdout",
     "output_type": "stream",
     "text": [
      "4\n",
      "10\n"
     ]
    }
   ],
   "source": [
    "pre_order_traversal(root)"
   ]
  },
  {
   "cell_type": "code",
   "execution_count": 42,
   "id": "e11c2414-cf1e-42f2-b023-8026843ed916",
   "metadata": {},
   "outputs": [],
   "source": [
    "insertion(root, 20)\n"
   ]
  },
  {
   "cell_type": "code",
   "execution_count": 43,
   "id": "351bacc2-2c0d-499d-935b-1295f3347bdb",
   "metadata": {},
   "outputs": [
    {
     "name": "stdout",
     "output_type": "stream",
     "text": [
      "Value inserted at the desired location\n"
     ]
    }
   ],
   "source": [
    "insertion(root, 30)\n"
   ]
  },
  {
   "cell_type": "code",
   "execution_count": 44,
   "id": "1622b1e5-7642-4c0b-a275-f5cf1eadd634",
   "metadata": {},
   "outputs": [],
   "source": [
    "insertion(root, 40)\n"
   ]
  },
  {
   "cell_type": "code",
   "execution_count": 45,
   "id": "0cb6f58c-610c-4a4c-9817-04e8fa14fc9f",
   "metadata": {},
   "outputs": [
    {
     "name": "stdout",
     "output_type": "stream",
     "text": [
      "Value inserted at the desired location\n"
     ]
    }
   ],
   "source": [
    "insertion(root, 50)\n"
   ]
  },
  {
   "cell_type": "code",
   "execution_count": 46,
   "id": "36d55115-f303-49f8-8fcf-7362cca6cc75",
   "metadata": {},
   "outputs": [],
   "source": [
    "insertion(root, 25)"
   ]
  },
  {
   "cell_type": "code",
   "execution_count": 47,
   "id": "471cc21b-fbad-43e8-aedc-b334cc50f9f1",
   "metadata": {},
   "outputs": [
    {
     "name": "stdout",
     "output_type": "stream",
     "text": [
      "4\n",
      "10\n",
      "30\n",
      "40\n",
      "20\n",
      "50\n",
      "25\n"
     ]
    }
   ],
   "source": [
    "pre_order_traversal(root)"
   ]
  },
  {
   "cell_type": "code",
   "execution_count": 48,
   "id": "20a134b6-054f-445e-aaf3-be1c6a4ba8bc",
   "metadata": {},
   "outputs": [],
   "source": [
    "def inorder_traversal(node):\n",
    "    if not node:\n",
    "        return\n",
    "    inorder_traversal(node.left)\n",
    "    print(\"The value at current node is: \", node.data)\n",
    "    inorder_traversal(node.right)"
   ]
  },
  {
   "cell_type": "code",
   "execution_count": 49,
   "id": "6e622c1e-49e3-48ca-990a-5fa7e2fdd683",
   "metadata": {},
   "outputs": [
    {
     "name": "stdout",
     "output_type": "stream",
     "text": [
      "The value at current node is:  30\n",
      "The value at current node is:  10\n",
      "The value at current node is:  40\n",
      "The value at current node is:  4\n",
      "The value at current node is:  50\n",
      "The value at current node is:  20\n",
      "The value at current node is:  25\n"
     ]
    }
   ],
   "source": [
    "inorder_traversal(root)"
   ]
  },
  {
   "cell_type": "code",
   "execution_count": 50,
   "id": "cb512b83-3653-4202-aea9-2965d45d412a",
   "metadata": {},
   "outputs": [],
   "source": [
    "def level_order(root):\n",
    "    if not root:\n",
    "        return \n",
    "    else:\n",
    "        q=Queue()\n",
    "        q.enqueue(root)\n",
    "        while not q.is_empty():\n",
    "#             print(q.items.head)\n",
    "#             print(q.items.head.next)\n",
    "#             print(q.items.tail)\n",
    "#             print(q.is_empty())\n",
    "            root=q.dequeue()\n",
    "            print(root.value.data)\n",
    "            if root.value.left is not None:\n",
    "                q.enqueue(root.value.left)\n",
    "                \n",
    "            if root.value.right is not None:\n",
    "                q.enqueue(root.value.right)\n",
    "        "
   ]
  },
  {
   "cell_type": "code",
   "execution_count": 51,
   "id": "734220c1-bb6b-4026-bbca-27f4ce0f13d3",
   "metadata": {},
   "outputs": [
    {
     "name": "stdout",
     "output_type": "stream",
     "text": [
      "4\n",
      "10\n",
      "20\n",
      "30\n",
      "40\n",
      "50\n",
      "25\n"
     ]
    }
   ],
   "source": [
    "level_order(root)"
   ]
  },
  {
   "cell_type": "code",
   "execution_count": 52,
   "id": "5708ad5d-f880-4322-9388-3631e811a9a4",
   "metadata": {},
   "outputs": [],
   "source": [
    "def del_entire(root):\n",
    "    if not root:\n",
    "        return\n",
    "    \n",
    "    else:\n",
    "        root.left= None\n",
    "        root.right =None\n",
    "        root.data=None"
   ]
  },
  {
   "cell_type": "code",
   "execution_count": 53,
   "id": "8e194662-815e-464c-942c-e4c8fc405621",
   "metadata": {},
   "outputs": [],
   "source": [
    "del_entire(root)"
   ]
  },
  {
   "cell_type": "code",
   "execution_count": 54,
   "id": "10388a89-f805-456c-8314-2217fd267412",
   "metadata": {},
   "outputs": [
    {
     "name": "stdout",
     "output_type": "stream",
     "text": [
      "None\n"
     ]
    }
   ],
   "source": [
    "level_order(root)"
   ]
  },
  {
   "cell_type": "code",
   "execution_count": null,
   "id": "fe70f46d-0103-4321-89a5-8fa70e8c8058",
   "metadata": {},
   "outputs": [],
   "source": []
  }
 ],
 "metadata": {
  "kernelspec": {
   "display_name": "Python 3",
   "language": "python",
   "name": "python3"
  },
  "language_info": {
   "codemirror_mode": {
    "name": "ipython",
    "version": 3
   },
   "file_extension": ".py",
   "mimetype": "text/x-python",
   "name": "python",
   "nbconvert_exporter": "python",
   "pygments_lexer": "ipython3",
   "version": "3.8.5"
  }
 },
 "nbformat": 4,
 "nbformat_minor": 5
}
