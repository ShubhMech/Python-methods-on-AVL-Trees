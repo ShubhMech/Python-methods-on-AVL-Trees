{
 "cells": [
  {
   "cell_type": "code",
   "execution_count": 1,
   "id": "d6e60266-e68a-42e1-b466-b6a943f2ce9b",
   "metadata": {},
   "outputs": [],
   "source": [
    "class AVLtree:\n",
    "    def __init__(self,value):\n",
    "        self.data=value\n",
    "        self.height=1\n",
    "        self.left=None\n",
    "        self.right=None\n",
    "        "
   ]
  },
  {
   "cell_type": "code",
   "execution_count": 2,
   "id": "9ebcffc6-755f-47fb-b723-8cef55fbd4a7",
   "metadata": {},
   "outputs": [],
   "source": [
    "root= AVLtree(4)"
   ]
  },
  {
   "cell_type": "code",
   "execution_count": null,
   "id": "e2700efb-9155-4f06-9c22-c33529fab31c",
   "metadata": {},
   "outputs": [],
   "source": []
  }
 ],
 "metadata": {
  "kernelspec": {
   "display_name": "Python 3",
   "language": "python",
   "name": "python3"
  },
  "language_info": {
   "codemirror_mode": {
    "name": "ipython",
    "version": 3
   },
   "file_extension": ".py",
   "mimetype": "text/x-python",
   "name": "python",
   "nbconvert_exporter": "python",
   "pygments_lexer": "ipython3",
   "version": "3.8.5"
  }
 },
 "nbformat": 4,
 "nbformat_minor": 5
}
